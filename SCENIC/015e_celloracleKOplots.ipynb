{
 "cells": [
  {
   "cell_type": "code",
   "execution_count": null,
   "id": "6b312142-f204-456b-b8f1-f81cd9c207a1",
   "metadata": {},
   "outputs": [],
   "source": [
    "import os\n",
    "import sys\n",
    "\n",
    "import matplotlib.pyplot as plt\n",
    "import numpy as np\n",
    "import pandas as pd\n",
    "import scanpy as sc\n",
    "import seaborn as sns\n",
    "import pickle\n",
    "from celloracle.applications import Gradient_calculator\n",
    "from celloracle.applications import Oracle_development_module\n"
   ]
  },
  {
   "cell_type": "code",
   "execution_count": null,
   "id": "b138eaf6-2b6d-4ff2-a6cc-faef37f1d644",
   "metadata": {},
   "outputs": [],
   "source": [
    "import celloracle as co\n",
    "co.__version__"
   ]
  },
  {
   "cell_type": "code",
   "execution_count": null,
   "id": "3becede8-9e21-4972-8a4c-e1b6b69e9705",
   "metadata": {},
   "outputs": [],
   "source": [
    "# visualization settings\n",
    "%config InlineBackend.figure_format = 'retina'\n",
    "%matplotlib inline\n",
    "\n",
    "plt.rcParams['figure.figsize'] = [6, 4.5]\n",
    "plt.rcParams[\"savefig.dpi\"] = 300"
   ]
  },
  {
   "cell_type": "code",
   "execution_count": null,
   "id": "0f9b1603-8b90-4d24-a67c-361f7c94c386",
   "metadata": {},
   "outputs": [],
   "source": [
    "Sample = \"MSM144\"\n",
    "\n",
    "print(\"Start Analysis for Sample: \" + Sample)\n",
    "\n",
    "#First define directories\n",
    "projDir = os.path.join('SCENIC/GRNind/')\n",
    "dataDir = os.path.join('SCENIC/RNA/',Sample+'/')\n",
    "dataFig = os.path.join(projDir+'figures_CO/')\n",
    "tmpDir = \"TMP/\"\n",
    "os.chdir(projDir)"
   ]
  },
  {
   "cell_type": "code",
   "execution_count": null,
   "id": "3ff291c2-cf8f-456f-a49c-807870505a26",
   "metadata": {},
   "outputs": [],
   "source": [
    "links = co.load_hdf5(dataDir+\"links.celloracle.links\")"
   ]
  },
  {
   "cell_type": "code",
   "execution_count": null,
   "id": "82cbc4f7-9f55-4863-85fc-772317768ba9",
   "metadata": {},
   "outputs": [],
   "source": [
    "##laod processed data KO data\n",
    "goi=\"CRX\"\n",
    "oracle = co.load_hdf5(dataDir+\"output_\"+goi+\"KO.celloracle.oracle\")\n"
   ]
  },
  {
   "cell_type": "code",
   "execution_count": null,
   "id": "4eeca347-2553-4afe-87c3-f6ac255aa6a4",
   "metadata": {},
   "outputs": [],
   "source": [
    "# n_grid = 40 is a good starting value.\n",
    "n_grid = 40\n",
    "oracle.calculate_p_mass(smooth=0.8, n_grid=n_grid, n_neighbors=200)"
   ]
  },
  {
   "cell_type": "code",
   "execution_count": null,
   "id": "a24be6cf-0cc7-49c6-9988-07587672022e",
   "metadata": {},
   "outputs": [],
   "source": [
    "oracle.suggest_mass_thresholds(n_suggestion=12)\n"
   ]
  },
  {
   "cell_type": "code",
   "execution_count": null,
   "id": "f4b551a3-89f8-48a1-9f62-76bfd32b4b90",
   "metadata": {},
   "outputs": [],
   "source": [
    "min_mass = 26 #29 for MSM109 26 for MSM057 and MSM144\n",
    "oracle.calculate_mass_filter(min_mass=min_mass, plot=True)"
   ]
  },
  {
   "cell_type": "code",
   "execution_count": null,
   "id": "a8c12107-b48b-4198-b566-6f4342fb0fa5",
   "metadata": {},
   "outputs": [],
   "source": [
    "# Visualize pseudotime\n",
    "#fig, ax = plt.subplots(figsize=[6,6])\n",
    "#sc.pl.embedding(adata=oracle.adata, basis=oracle.embedding_name, ax=ax, cmap=\"plasma\",\n",
    "#                color=[\"DPTval\"])"
   ]
  },
  {
   "cell_type": "code",
   "execution_count": null,
   "id": "76b5f201-888f-41be-b891-3c32249a4da3",
   "metadata": {},
   "outputs": [],
   "source": [
    "##to find simualtion\n",
    "fig, ax = plt.subplots(1, 2,  figsize=[13, 6])\n",
    "\n",
    "scale_simulation = 5\n",
    "# Show quiver plot\n",
    "oracle.plot_simulation_flow_on_grid(scale=scale_simulation, ax=ax[0])\n",
    "ax[0].set_title(f\"Simulated cell identity shift vector: {goi} KO\")\n",
    "\n",
    "# Show quiver plot that was calculated with randomized graph.\n",
    "oracle.plot_simulation_flow_random_on_grid(scale=scale_simulation, ax=ax[1])\n",
    "ax[1].set_title(f\"Randomized simulation vector\")\n",
    "\n",
    "plt.show()"
   ]
  },
  {
   "cell_type": "code",
   "execution_count": null,
   "id": "a62b4253-ce7d-4815-afe6-860335b0e7ed",
   "metadata": {},
   "outputs": [],
   "source": [
    "# Instantiate Gradient calculator object\n",
    "gradient = Gradient_calculator(oracle_object=oracle, pseudotime_key=\"DPTval\")\n",
    "#We already know approproate values for them. Please set the same values as  above.\n",
    "\n",
    "gradient.calculate_p_mass(smooth=0.8, n_grid=n_grid, n_neighbors=200)\n",
    "gradient.calculate_mass_filter(min_mass=min_mass, plot=True)"
   ]
  },
  {
   "cell_type": "code",
   "execution_count": null,
   "id": "bbbc6924-3bc7-4c77-8cb3-9714701c05dd",
   "metadata": {},
   "outputs": [],
   "source": [
    "#we convert the pseudotime data into grid points.\n",
    "gradient.transfer_data_into_grid(args={\"method\": \"polynomial\", \"n_poly\":3}, plot=True)\n"
   ]
  },
  {
   "cell_type": "code",
   "execution_count": null,
   "id": "2e30b334-3c07-4266-96c1-682deffb85bb",
   "metadata": {},
   "outputs": [],
   "source": [
    "# Calculate graddient\n",
    "gradient.calculate_gradient()\n",
    "\n",
    "# Show results\n",
    "scale_dev = 40\n",
    "gradient.visualize_results(scale=scale_dev, s=5)"
   ]
  },
  {
   "cell_type": "code",
   "execution_count": null,
   "id": "516fb29a-d7cf-4be2-9d80-a7a1caa39243",
   "metadata": {},
   "outputs": [],
   "source": [
    "# Make Oracle_development_module to compare two vector field\n",
    "dev = Oracle_development_module()\n",
    "# Load development flow\n",
    "dev.load_differentiation_reference_data(gradient_object=gradient)\n",
    "# Load simulation result\n",
    "dev.load_perturb_simulation_data(oracle_object=oracle)\n",
    "\n",
    "\n",
    "# Calculate inner produc scores\n",
    "dev.calculate_inner_product()\n",
    "dev.calculate_digitized_ip(n_bins=10)"
   ]
  },
  {
   "cell_type": "code",
   "execution_count": null,
   "id": "8ca2627b-d855-461e-99da-d7641e01deaf",
   "metadata": {},
   "outputs": [],
   "source": [
    "# Show perturbation scores\n",
    "vm = 0.15\n",
    "\n",
    "fig, ax = plt.subplots(1, 2, figsize=[12, 6])\n",
    "dev.plot_inner_product_on_grid(vm=0.02, s=50, ax=ax[0])\n",
    "ax[0].set_title(f\"PS\")\n",
    "\n",
    "dev.plot_inner_product_random_on_grid(vm=vm, s=50, ax=ax[1])\n",
    "ax[1].set_title(f\"PS calculated with Randomized simulation vector\")\n",
    "plt.show()"
   ]
  },
  {
   "cell_type": "code",
   "execution_count": null,
   "id": "38d21607-5170-4dac-a9d1-5aa264740ba8",
   "metadata": {},
   "outputs": [],
   "source": [
    "# Let's visualize the results\n",
    "scale_simulation=5\n",
    "p=dev.visualize_development_module_layout_0(s=5,\n",
    "                                          scale_for_simulation=scale_simulation,\n",
    "                                          s_grid=50,\n",
    "                                          scale_for_pseudotime=scale_dev,\n",
    "                                          vm=vm, return_fig=True)"
   ]
  },
  {
   "cell_type": "code",
   "execution_count": null,
   "id": "00a10664-a70f-4717-80af-0994fe1e78af",
   "metadata": {},
   "outputs": [],
   "source": [
    "p.savefig(dataFig+Sample+'_'+goi+\"KO.pdf\")"
   ]
  }
 ],
 "metadata": {
  "kernelspec": {
   "display_name": "pjexv4",
   "language": "python",
   "name": "pjexv4"
  },
  "language_info": {
   "codemirror_mode": {
    "name": "ipython",
    "version": 3
   },
   "file_extension": ".py",
   "mimetype": "text/x-python",
   "name": "python",
   "nbconvert_exporter": "python",
   "pygments_lexer": "ipython3",
   "version": "3.7.16"
  }
 },
 "nbformat": 4,
 "nbformat_minor": 5
}
